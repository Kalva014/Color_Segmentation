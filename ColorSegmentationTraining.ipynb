{
 "cells": [
  {
   "cell_type": "code",
   "execution_count": 2,
   "metadata": {},
   "outputs": [],
   "source": [
    "import numpy as np"
   ]
  },
  {
   "attachments": {},
   "cell_type": "markdown",
   "metadata": {},
   "source": [
    "Gather orange cone masks from each labeled file and append them to one big matrix. Plot this matrix on a scatter plot"
   ]
  },
  {
   "cell_type": "code",
   "execution_count": 7,
   "metadata": {},
   "outputs": [
    {
     "name": "stdout",
     "output_type": "stream",
     "text": [
      "data1:  (263, 3)\n",
      "data1:  (741, 3)\n"
     ]
    },
    {
     "ename": "AttributeError",
     "evalue": "'numpy.ndarray' object has no attribute 'append'",
     "output_type": "error",
     "traceback": [
      "\u001b[0;31m---------------------------------------------------------------------------\u001b[0m",
      "\u001b[0;31mAttributeError\u001b[0m                            Traceback (most recent call last)",
      "Cell \u001b[0;32mIn[7], line 5\u001b[0m\n\u001b[1;32m      3\u001b[0m \u001b[39mprint\u001b[39m(\u001b[39m\"\u001b[39m\u001b[39mdata1: \u001b[39m\u001b[39m\"\u001b[39m, np\u001b[39m.\u001b[39mshape(data1))\n\u001b[1;32m      4\u001b[0m \u001b[39mprint\u001b[39m(\u001b[39m\"\u001b[39m\u001b[39mdata1: \u001b[39m\u001b[39m\"\u001b[39m, np\u001b[39m.\u001b[39mshape(data2))\n\u001b[0;32m----> 5\u001b[0m \u001b[39mprint\u001b[39m(data1\u001b[39m.\u001b[39;49mappend(data2))\n",
      "\u001b[0;31mAttributeError\u001b[0m: 'numpy.ndarray' object has no attribute 'append'"
     ]
    }
   ],
   "source": [
    "data1 = np.loadtxt('Data/Labeled/train_16_dist24.csv')\n",
    "data2 = np.loadtxt('Data/Labeled/train_10_dist20.csv')\n",
    "print(\"data1: \", np.shape(data1))\n",
    "print(\"data1: \", np.shape(data2))\n",
    "print(data1.append(data2))"
   ]
  },
  {
   "cell_type": "code",
   "execution_count": null,
   "metadata": {},
   "outputs": [],
   "source": [
    "# Plot region of interest points onto scatter plot\n",
    "scatter_plot = fig.add_subplot(projection='3d')\n",
    "cone_roi_pixels\n",
    "plt.show()"
   ]
  },
  {
   "attachments": {},
   "cell_type": "markdown",
   "metadata": {},
   "source": [
    "Once you have that you want to calculate the mean and standard deviation of this region of interest"
   ]
  }
 ],
 "metadata": {
  "kernelspec": {
   "display_name": "CS5787",
   "language": "python",
   "name": "python3"
  },
  "language_info": {
   "codemirror_mode": {
    "name": "ipython",
    "version": 3
   },
   "file_extension": ".py",
   "mimetype": "text/x-python",
   "name": "python",
   "nbconvert_exporter": "python",
   "pygments_lexer": "ipython3",
   "version": "3.8.16"
  },
  "orig_nbformat": 4,
  "vscode": {
   "interpreter": {
    "hash": "17639e12202c3c5312921732ab4aad8d2280f2501c5fd47554deb12352865237"
   }
  }
 },
 "nbformat": 4,
 "nbformat_minor": 2
}
